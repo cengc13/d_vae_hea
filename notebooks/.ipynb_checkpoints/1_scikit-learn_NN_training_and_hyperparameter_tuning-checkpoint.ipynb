{
 "cells": [
  {
   "cell_type": "code",
   "execution_count": 1,
   "id": "virtual-italy",
   "metadata": {},
   "outputs": [
    {
     "name": "stdout",
     "output_type": "stream",
     "text": [
      "/home/hughes/usr/d_vae_hea\n"
     ]
    }
   ],
   "source": [
    "%cd ../"
   ]
  },
  {
   "cell_type": "code",
   "execution_count": 2,
   "id": "about-resolution",
   "metadata": {},
   "outputs": [],
   "source": [
    "import warnings\n",
    "warnings.filterwarnings(\"ignore\")\n",
    "\n",
    "import pandas as pd\n",
    "import numpy as np\n",
    "import pickle\n",
    "from sklearn.model_selection import train_test_split, GridSearchCV\n",
    "from sklearn.model_selection import KFold\n",
    "from sklearn.preprocessing import OneHotEncoder, MinMaxScaler\n",
    "from sklearn.pipeline import make_pipeline, Pipeline\n",
    "from sklearn.compose import ColumnTransformer\n",
    "from sklearn.metrics import make_scorer, recall_score, accuracy_score, precision_score"
   ]
  },
  {
   "cell_type": "code",
   "execution_count": 5,
   "id": "killing-parade",
   "metadata": {},
   "outputs": [],
   "source": [
    "labelled_hea = pickle.load(open('./data/labelled_hea.pk', 'rb'))\n",
    "test_hea = pickle.load(open('./data/test_hea.pk', 'rb'))\n",
    "validation_hea = pickle.load(open('./data/validation_hea.pk', 'rb'))"
   ]
  },
  {
   "cell_type": "code",
   "execution_count": 6,
   "id": "attended-attribute",
   "metadata": {},
   "outputs": [
    {
     "data": {
      "text/html": [
       "<div>\n",
       "<style scoped>\n",
       "    .dataframe tbody tr th:only-of-type {\n",
       "        vertical-align: middle;\n",
       "    }\n",
       "\n",
       "    .dataframe tbody tr th {\n",
       "        vertical-align: top;\n",
       "    }\n",
       "\n",
       "    .dataframe thead th {\n",
       "        text-align: right;\n",
       "    }\n",
       "</style>\n",
       "<table border=\"1\" class=\"dataframe\">\n",
       "  <thead>\n",
       "    <tr style=\"text-align: right;\">\n",
       "      <th></th>\n",
       "      <th>Alloys</th>\n",
       "      <th>Class</th>\n",
       "      <th>Fe</th>\n",
       "      <th>Ni</th>\n",
       "      <th>Cr</th>\n",
       "      <th>Co</th>\n",
       "      <th>Al</th>\n",
       "      <th>Ti</th>\n",
       "      <th>Cu</th>\n",
       "      <th>Mo</th>\n",
       "      <th>...</th>\n",
       "      <th>delta_s_mix</th>\n",
       "      <th>delta_h_mix</th>\n",
       "      <th>k_n</th>\n",
       "      <th>vm_n</th>\n",
       "      <th>tm_n</th>\n",
       "      <th>vac_n</th>\n",
       "      <th>delta_n</th>\n",
       "      <th>delta_chi_n</th>\n",
       "      <th>delta_s_mix_n</th>\n",
       "      <th>delta_h_mix_n</th>\n",
       "    </tr>\n",
       "  </thead>\n",
       "  <tbody>\n",
       "    <tr>\n",
       "      <th>1054</th>\n",
       "      <td>V0.75W0.25</td>\n",
       "      <td>1</td>\n",
       "      <td>0.000000</td>\n",
       "      <td>0.000000</td>\n",
       "      <td>0.000000</td>\n",
       "      <td>0.000000</td>\n",
       "      <td>0.000000</td>\n",
       "      <td>0.0</td>\n",
       "      <td>0.0</td>\n",
       "      <td>0.000000</td>\n",
       "      <td>...</td>\n",
       "      <td>4.675252</td>\n",
       "      <td>-1.200000</td>\n",
       "      <td>0.435890</td>\n",
       "      <td>0.000114</td>\n",
       "      <td>1.141297</td>\n",
       "      <td>-0.071439</td>\n",
       "      <td>-1.595776</td>\n",
       "      <td>-1.473335</td>\n",
       "      <td>-1.162850</td>\n",
       "      <td>0.834430</td>\n",
       "    </tr>\n",
       "    <tr>\n",
       "      <th>939</th>\n",
       "      <td>Fe0.2Ru0.8</td>\n",
       "      <td>1</td>\n",
       "      <td>0.200000</td>\n",
       "      <td>0.000000</td>\n",
       "      <td>0.000000</td>\n",
       "      <td>0.000000</td>\n",
       "      <td>0.000000</td>\n",
       "      <td>0.0</td>\n",
       "      <td>0.0</td>\n",
       "      <td>0.000000</td>\n",
       "      <td>...</td>\n",
       "      <td>4.160344</td>\n",
       "      <td>-4.608000</td>\n",
       "      <td>0.686427</td>\n",
       "      <td>-0.366313</td>\n",
       "      <td>0.918265</td>\n",
       "      <td>-0.246671</td>\n",
       "      <td>-0.125930</td>\n",
       "      <td>0.134770</td>\n",
       "      <td>-1.274156</td>\n",
       "      <td>0.620887</td>\n",
       "    </tr>\n",
       "    <tr>\n",
       "      <th>966</th>\n",
       "      <td>Ru0.8V0.2</td>\n",
       "      <td>1</td>\n",
       "      <td>0.000000</td>\n",
       "      <td>0.000000</td>\n",
       "      <td>0.000000</td>\n",
       "      <td>0.000000</td>\n",
       "      <td>0.000000</td>\n",
       "      <td>0.0</td>\n",
       "      <td>0.0</td>\n",
       "      <td>0.000000</td>\n",
       "      <td>...</td>\n",
       "      <td>4.160344</td>\n",
       "      <td>-23.552000</td>\n",
       "      <td>0.651509</td>\n",
       "      <td>-0.209721</td>\n",
       "      <td>1.066422</td>\n",
       "      <td>-0.386857</td>\n",
       "      <td>-0.855243</td>\n",
       "      <td>1.227891</td>\n",
       "      <td>-1.274156</td>\n",
       "      <td>-0.566133</td>\n",
       "    </tr>\n",
       "    <tr>\n",
       "      <th>855</th>\n",
       "      <td>Al.48CoCrFeMo0.5Ni</td>\n",
       "      <td>1</td>\n",
       "      <td>0.200803</td>\n",
       "      <td>0.200803</td>\n",
       "      <td>0.200803</td>\n",
       "      <td>0.200803</td>\n",
       "      <td>0.096386</td>\n",
       "      <td>0.0</td>\n",
       "      <td>0.0</td>\n",
       "      <td>0.100402</td>\n",
       "      <td>...</td>\n",
       "      <td>14.514301</td>\n",
       "      <td>-18.134869</td>\n",
       "      <td>-0.050877</td>\n",
       "      <td>-0.744753</td>\n",
       "      <td>-0.202800</td>\n",
       "      <td>-0.359270</td>\n",
       "      <td>0.192296</td>\n",
       "      <td>0.192569</td>\n",
       "      <td>0.964019</td>\n",
       "      <td>-0.226699</td>\n",
       "    </tr>\n",
       "    <tr>\n",
       "      <th>1063</th>\n",
       "      <td>Au0.5Cu0.5</td>\n",
       "      <td>1</td>\n",
       "      <td>0.000000</td>\n",
       "      <td>0.000000</td>\n",
       "      <td>0.000000</td>\n",
       "      <td>0.000000</td>\n",
       "      <td>0.000000</td>\n",
       "      <td>0.0</td>\n",
       "      <td>0.5</td>\n",
       "      <td>0.000000</td>\n",
       "      <td>...</td>\n",
       "      <td>5.762824</td>\n",
       "      <td>-13.600000</td>\n",
       "      <td>0.143451</td>\n",
       "      <td>0.003246</td>\n",
       "      <td>-1.271432</td>\n",
       "      <td>2.089761</td>\n",
       "      <td>-1.595776</td>\n",
       "      <td>1.528499</td>\n",
       "      <td>-0.927754</td>\n",
       "      <td>0.057454</td>\n",
       "    </tr>\n",
       "  </tbody>\n",
       "</table>\n",
       "<p>5 rows × 48 columns</p>\n",
       "</div>"
      ],
      "text/plain": [
       "                  Alloys  Class        Fe        Ni        Cr        Co  \\\n",
       "1054          V0.75W0.25      1  0.000000  0.000000  0.000000  0.000000   \n",
       "939           Fe0.2Ru0.8      1  0.200000  0.000000  0.000000  0.000000   \n",
       "966            Ru0.8V0.2      1  0.000000  0.000000  0.000000  0.000000   \n",
       "855   Al.48CoCrFeMo0.5Ni      1  0.200803  0.200803  0.200803  0.200803   \n",
       "1063          Au0.5Cu0.5      1  0.000000  0.000000  0.000000  0.000000   \n",
       "\n",
       "            Al   Ti   Cu        Mo  ...  delta_s_mix  delta_h_mix       k_n  \\\n",
       "1054  0.000000  0.0  0.0  0.000000  ...     4.675252    -1.200000  0.435890   \n",
       "939   0.000000  0.0  0.0  0.000000  ...     4.160344    -4.608000  0.686427   \n",
       "966   0.000000  0.0  0.0  0.000000  ...     4.160344   -23.552000  0.651509   \n",
       "855   0.096386  0.0  0.0  0.100402  ...    14.514301   -18.134869 -0.050877   \n",
       "1063  0.000000  0.0  0.5  0.000000  ...     5.762824   -13.600000  0.143451   \n",
       "\n",
       "          vm_n      tm_n     vac_n   delta_n  delta_chi_n  delta_s_mix_n  \\\n",
       "1054  0.000114  1.141297 -0.071439 -1.595776    -1.473335      -1.162850   \n",
       "939  -0.366313  0.918265 -0.246671 -0.125930     0.134770      -1.274156   \n",
       "966  -0.209721  1.066422 -0.386857 -0.855243     1.227891      -1.274156   \n",
       "855  -0.744753 -0.202800 -0.359270  0.192296     0.192569       0.964019   \n",
       "1063  0.003246 -1.271432  2.089761 -1.595776     1.528499      -0.927754   \n",
       "\n",
       "      delta_h_mix_n  \n",
       "1054       0.834430  \n",
       "939        0.620887  \n",
       "966       -0.566133  \n",
       "855       -0.226699  \n",
       "1063       0.057454  \n",
       "\n",
       "[5 rows x 48 columns]"
      ]
     },
     "execution_count": 6,
     "metadata": {},
     "output_type": "execute_result"
    }
   ],
   "source": [
    "num_ftrs = ['k','vm','tm','vac','delta','delta_chi', 'delta_s_mix', 'delta_h_mix']\n",
    "# num_ftrs = ['vm','tm','vac','delta','delta_chi', 'delta_s_mix', 'delta_h_mix']\n",
    "target_ftrs = ['Class']\n",
    "X = labelled_hea[num_ftrs]\n",
    "X_val = validation_hea[num_ftrs]\n",
    "X_test = test_hea[num_ftrs]\n",
    "y = labelled_hea[target_ftrs]\n",
    "y_val = validation_hea[target_ftrs]\n",
    "y_test = test_hea[target_ftrs]\n",
    "labelled_hea.sample(5)"
   ]
  },
  {
   "cell_type": "code",
   "execution_count": 7,
   "id": "criminal-croatia",
   "metadata": {},
   "outputs": [
    {
     "name": "stdout",
     "output_type": "stream",
     "text": [
      "864 75\n"
     ]
    }
   ],
   "source": [
    "print(len(y), len(y_val))"
   ]
  },
  {
   "cell_type": "code",
   "execution_count": 8,
   "id": "official-fossil",
   "metadata": {},
   "outputs": [],
   "source": [
    "from sklearn.neural_network import MLPClassifier"
   ]
  },
  {
   "cell_type": "code",
   "execution_count": 9,
   "id": "vanilla-energy",
   "metadata": {},
   "outputs": [],
   "source": [
    "nnc = MLPClassifier(max_iter=100000, solver='adam', #'lbfgs'\n",
    "                   activation='logistic', batch_size=32,\n",
    "                   learning_rate='adaptive',\n",
    "                   learning_rate_init=1e-4,\n",
    "                   random_state=42, alpha=0.00, hidden_layer_sizes=[100, 100])\n",
    "alphas = [0, 0.0001, 0.001, 0.01]\n",
    "hls =  [[20, 20], [50,50], [100, 100], [120, 120]]\n",
    "lrs = [1e-3, 1e-4, 1e-5]\n",
    "param_grid = {\"clf__hidden_layer_sizes\" : hls,\n",
    "             \"clf__alpha\": alphas,\n",
    "             \"clf__learning_rate_init\": lrs}"
   ]
  },
  {
   "cell_type": "code",
   "execution_count": null,
   "id": "intellectual-wagon",
   "metadata": {},
   "outputs": [],
   "source": [
    "from itertools import product\n",
    "\n",
    "\n",
    "parameters = []\n",
    "train_scores, val_scores, test_scores = [], [], []\n",
    "for alpha, hl, lr in product(alphas[:], hls[:], lrs[:]):\n",
    "    nnc = MLPClassifier(max_iter=100000, solver='adam', #'lbfgs'\n",
    "                   activation='logistic', batch_size=32,\n",
    "                   learning_rate='adaptive',\n",
    "                   learning_rate_init=lr,\n",
    "                   random_state=42, alpha=alpha, hidden_layer_sizes=hl)\n",
    "    nnc.fit(X, y)\n",
    "    parameter = \"-\".join([str(alpha), str(hl), str(lr)])\n",
    "    parameters.append(parameter)\n",
    "    val_score = nnc.score(X_val, y_val)\n",
    "    val_scores.append(val_score)\n",
    "    test_score = nnc.score(X_test, y_test)\n",
    "    test_scores.append(test_score)"
   ]
  },
  {
   "cell_type": "code",
   "execution_count": null,
   "id": "liquid-research",
   "metadata": {},
   "outputs": [],
   "source": [
    "results = {'params': [], 'val':[], 'test': []}\n",
    "results['params'] = parameters\n",
    "results['val'] = val_scores\n",
    "results['test'] = test_scores"
   ]
  },
  {
   "cell_type": "code",
   "execution_count": null,
   "id": "focal-brown",
   "metadata": {},
   "outputs": [],
   "source": [
    "import json\n",
    "with open('data/hyper-parameter-tuning.json', 'w') as f:\n",
    "    json.dump(results, f)"
   ]
  },
  {
   "cell_type": "code",
   "execution_count": null,
   "id": "relative-cabinet",
   "metadata": {},
   "outputs": [],
   "source": [
    "print(parameters[np.argmax(test_scores)])"
   ]
  },
  {
   "cell_type": "code",
   "execution_count": null,
   "id": "naval-lease",
   "metadata": {},
   "outputs": [],
   "source": [
    "print(test_score)\n",
    "grid.best_params_"
   ]
  },
  {
   "cell_type": "code",
   "execution_count": null,
   "id": "charming-premises",
   "metadata": {},
   "outputs": [],
   "source": [
    "nnc.fit(X, y)\n",
    "nnc.score(X, y)"
   ]
  },
  {
   "cell_type": "code",
   "execution_count": null,
   "id": "restricted-completion",
   "metadata": {},
   "outputs": [],
   "source": [
    "nnc.score(X_val, y_val)"
   ]
  }
 ],
 "metadata": {
  "kernelspec": {
   "display_name": "Python 3",
   "language": "python",
   "name": "python3"
  },
  "language_info": {
   "codemirror_mode": {
    "name": "ipython",
    "version": 3
   },
   "file_extension": ".py",
   "mimetype": "text/x-python",
   "name": "python",
   "nbconvert_exporter": "python",
   "pygments_lexer": "ipython3",
   "version": "3.8.10"
  }
 },
 "nbformat": 4,
 "nbformat_minor": 5
}
